{
 "cells": [
  {
   "cell_type": "markdown",
   "id": "d36d8be5-d903-4069-8838-dcded3d05823",
   "metadata": {},
   "source": [
    "# Data Science Tools and Ecosystem"
   ]
  },
  {
   "cell_type": "markdown",
   "id": "17c6dc4b-142a-41e7-b98e-876450f91a38",
   "metadata": {},
   "source": [
    "In this notebook, Data Science Tools and Ecosystems are summarized. "
   ]
  },
  {
   "cell_type": "markdown",
   "id": "e432a09d-cfb8-45fd-a6f6-5f57fe62b7f2",
   "metadata": {},
   "source": [
    "**Objectives:**\n",
    "- List popular languages for Data Science\n",
    "- List popular libraries for Data Science\n",
    "- List popular tools for Data Science\n",
    "- Demonstrate computational abilities in Jupyter Notebook"
   ]
  },
  {
   "cell_type": "markdown",
   "id": "e3b5f821-dcb7-4d1c-94d7-d4705e60bedc",
   "metadata": {},
   "source": [
    "## Author\n",
    "Ezinne "
   ]
  },
  {
   "cell_type": "markdown",
   "id": "35a716cc-22c3-493f-aafc-a1bee45bed13",
   "metadata": {},
   "source": [
    "Some popular Data Science languages include the following:\n",
    "1. Python\n",
    "2. R\n",
    "3. SQL\n",
    "4. JAVA"
   ]
  },
  {
   "cell_type": "markdown",
   "id": "e52f2d5f-5177-42c6-bbb1-5d81723e11ed",
   "metadata": {},
   "source": [
    "Some common libraries used by Data Scientist include:\n",
    "1. Pandas\n",
    "2. Matplotlib\n",
    "3. PyTorch"
   ]
  },
  {
   "cell_type": "markdown",
   "id": "e33eeaa0-ce91-4280-bc7a-62a5a1033d9f",
   "metadata": {},
   "source": [
    "| Data Science Tools |\n",
    "| -------------------|\n",
    "| Jupyter lab|\n",
    "|R Studio |\n",
    "| Tableau |"
   ]
  },
  {
   "cell_type": "markdown",
   "id": "72251203-8ea3-49f3-9e11-7571d6c9775c",
   "metadata": {},
   "source": [
    "Below are a few examples of evaluating arithmetic expressions in Python."
   ]
  },
  {
   "cell_type": "markdown",
   "id": "87bd1b38-6106-4b8f-9f59-302d46aa8a7d",
   "metadata": {},
   "source": [
    "This is a simple arithmetic expression to multiply then add integers. "
   ]
  },
  {
   "cell_type": "code",
   "execution_count": 3,
   "id": "7aabaf86-55bf-4153-bbc2-0ce1b24698f0",
   "metadata": {},
   "outputs": [
    {
     "data": {
      "text/plain": [
       "17"
      ]
     },
     "execution_count": 3,
     "metadata": {},
     "output_type": "execute_result"
    }
   ],
   "source": [
    "(3*4)+5"
   ]
  },
  {
   "cell_type": "markdown",
   "id": "9b02dc26-52e5-46ff-b790-c02c0148bc27",
   "metadata": {},
   "source": [
    "This will convert 200 minutes to hours by dividing by 60. "
   ]
  },
  {
   "cell_type": "code",
   "execution_count": 6,
   "id": "64e5d4f0-8a2a-4a7b-b805-69c8e3247fb0",
   "metadata": {},
   "outputs": [
    {
     "data": {
      "text/plain": [
       "3.3333333333333335"
      ]
     },
     "execution_count": 6,
     "metadata": {},
     "output_type": "execute_result"
    }
   ],
   "source": [
    "200/60"
   ]
  }
 ],
 "metadata": {
  "kernelspec": {
   "display_name": "Python",
   "language": "python",
   "name": "conda-env-python-py"
  },
  "language_info": {
   "codemirror_mode": {
    "name": "ipython",
    "version": 3
   },
   "file_extension": ".py",
   "mimetype": "text/x-python",
   "name": "python",
   "nbconvert_exporter": "python",
   "pygments_lexer": "ipython3",
   "version": "3.7.12"
  }
 },
 "nbformat": 4,
 "nbformat_minor": 5
}
